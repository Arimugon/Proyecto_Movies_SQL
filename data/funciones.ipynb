{
 "cells": [
  {
   "cell_type": "code",
   "execution_count": 1,
   "id": "72ded3a2",
   "metadata": {},
   "outputs": [],
   "source": [
    "import pandas as pd\n",
    "import numpy as np\n",
    "import warnings\n",
    "warnings.filterwarnings('ignore')\n",
    "import csv\n",
    "pd.set_option('display.max_rows', None) \n",
    "pd.set_option('display.max_columns', None) \n",
    "import re\n",
    "\n"
   ]
  },
  {
   "cell_type": "code",
   "execution_count": 2,
   "id": "2f7214e0",
   "metadata": {},
   "outputs": [],
   "source": [
    "def cambio_delate(x):\n",
    "    \n",
    "    x=x.lower()\n",
    "    \n",
    "    if 'deleted' in x:\n",
    "        return 'YES'\n",
    "    \n",
    "    else:\n",
    "        return 'NO'\n",
    "    "
   ]
  },
  {
   "cell_type": "code",
   "execution_count": 3,
   "id": "9595b852",
   "metadata": {},
   "outputs": [],
   "source": [
    "def cambio_behind(x):\n",
    "    \n",
    "    x=x.lower()\n",
    "    \n",
    "    if 'behind' in x:\n",
    "        return 'YES'\n",
    "    \n",
    "    else:\n",
    "        return 'NO'"
   ]
  },
  {
   "cell_type": "code",
   "execution_count": 4,
   "id": "ada0a035",
   "metadata": {},
   "outputs": [],
   "source": [
    "def cambio_comen(x):\n",
    "    \n",
    "    x=x.lower()\n",
    "    \n",
    "    if 'comentaries' in x:\n",
    "        return 'YES'\n",
    "    \n",
    "    else:\n",
    "        return 'NO'"
   ]
  },
  {
   "cell_type": "code",
   "execution_count": 5,
   "id": "1fc55ddf",
   "metadata": {},
   "outputs": [],
   "source": [
    "def cambio_trailers(x):\n",
    "    \n",
    "    x=x.lower()\n",
    "    \n",
    "    if 'trailers' in x:\n",
    "        return 'YES'\n",
    "    \n",
    "    else:\n",
    "        return 'NO'"
   ]
  },
  {
   "cell_type": "code",
   "execution_count": null,
   "id": "8ce1c5c0",
   "metadata": {},
   "outputs": [],
   "source": []
  }
 ],
 "metadata": {
  "kernelspec": {
   "display_name": "Python 3 (ipykernel)",
   "language": "python",
   "name": "python3"
  },
  "language_info": {
   "codemirror_mode": {
    "name": "ipython",
    "version": 3
   },
   "file_extension": ".py",
   "mimetype": "text/x-python",
   "name": "python",
   "nbconvert_exporter": "python",
   "pygments_lexer": "ipython3",
   "version": "3.9.12"
  }
 },
 "nbformat": 4,
 "nbformat_minor": 5
}
